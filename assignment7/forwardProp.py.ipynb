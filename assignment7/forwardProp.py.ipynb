{
 "cells": [
  {
   "cell_type": "code",
   "execution_count": 26,
   "id": "c285b6ee",
   "metadata": {},
   "outputs": [
    {
     "name": "stdout",
     "output_type": "stream",
     "text": [
      "Output Layer Output (Linier)\n",
      "============================\n",
      "[[23.]\n",
      " [26.]\n",
      " [29.]\n",
      " [32.]] \n",
      "\n"
     ]
    }
   ],
   "source": [
    "import numpy as np\n",
    "\n",
    "def forwardPass(inputs, weight, bias):\n",
    "    w_sum = np.dot(inputs, weight) + bias\n",
    "    \n",
    "    #Linear Actiovation f(x) = x\n",
    "    act = w_sum\n",
    "    \n",
    "    return act\n",
    "\n",
    "#pre-Trained Weight & Biases after Training\n",
    "W= np.array([[2.9999999999]])\n",
    "b= np.array([[1.9999999999]])\n",
    "\n",
    "#initilize Input Data\n",
    "inputs = np.array([[7],[8],[9],[10]])\n",
    "\n",
    "# Output of Output Layer\n",
    "o_out = forwardPass(inputs,W,b)\n",
    "\n",
    "print('Output Layer Output (Linier)')\n",
    "print('============================')\n",
    "print(o_out, \"\\n\")"
   ]
  },
  {
   "cell_type": "code",
   "execution_count": null,
   "id": "2752edfe",
   "metadata": {},
   "outputs": [],
   "source": []
  }
 ],
 "metadata": {
  "kernelspec": {
   "display_name": "Python 3 (ipykernel)",
   "language": "python",
   "name": "python3"
  },
  "language_info": {
   "codemirror_mode": {
    "name": "ipython",
    "version": 3
   },
   "file_extension": ".py",
   "mimetype": "text/x-python",
   "name": "python",
   "nbconvert_exporter": "python",
   "pygments_lexer": "ipython3",
   "version": "3.9.7"
  }
 },
 "nbformat": 4,
 "nbformat_minor": 5
}
